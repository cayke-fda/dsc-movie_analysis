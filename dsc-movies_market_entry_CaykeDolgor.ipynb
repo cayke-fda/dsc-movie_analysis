{
 "cells": [
  {
   "cell_type": "markdown",
   "metadata": {},
   "source": [
    "# Movie Industry Analysis\n",
    "\n",
    "Authors: Cayke Felipe dos Anjos, Dolgor Purbueva"
   ]
  },
  {
   "cell_type": "markdown",
   "metadata": {},
   "source": [
    "<img src=\"images/screen.png\" alt=\"Alt text\" width=\"1200\"/>"
   ]
  },
  {
   "cell_type": "markdown",
   "metadata": {},
   "source": [
    "## Overview  \n",
    "This project analyzes past movies data to offer strategic business recommendations for a new film studio. We aim to predict the most profitable strategies for film production and release by examining production budgets, gross revenues, net profits, genres, popularity, key staff and release timelines. As result this project provides three business recommendations: what genre should a future movie be, what budget to allocate and when to release it."
   ]
  },
  {
   "cell_type": "markdown",
   "metadata": {},
   "source": [
    "## Business Problem\n",
    "\n",
    "The company is expanding its portfolio by investing in a new film studio. Launching a film studio in today's competitive entertainment industry requires a solid understanding of what drives movie success and attracts audiences. The movie industry is known for its substantial risks and high capital demands. Recent developments in AI have made video content creation faster and more efficient, increasing competition but also opening up new opportunities to enter the market.\n",
    "\n",
    "Our project aims to analyze various datasets, including past movies' financial results, genre correlations, and movie ratings and popularity. By using data analysis techniques, we seek to gain valuable insights and identify patterns that can help shape the company's film production strategy. The goal is to provide three concrete business recommendations that maximize profitability and lower business risks, ensuring a strong entry into the market."
   ]
  },
  {
   "cell_type": "markdown",
   "metadata": {},
   "source": [
    "Questions we tried to answer with analysis:\n",
    "* How should the movie be budgeted?\n",
    "* What genres are most profitable?\n",
    "* When should a movie be released?"
   ]
  },
  {
   "cell_type": "markdown",
   "metadata": {},
   "source": [
    "## Data Understanding\n",
    "\n",
    "We used datasets from Rotten Tomatoes, TheMovieDB, Bom Office Mojo, IMDB and The Numbers. Each dataset is of different size and contains different data catecories which might be seen as a limitation. For every question we answer we choose the most relevant dataset or merge some of them together for a fuller picture.\n",
    "\n",
    "For budget related analysis we used IMDB and The Numbers. TheMovieDD dataset was used to explore movie ratings and popularity.\n",
    "\n",
    "* One of the main metrics we explored is genre. [IMDB defines](https://help.imdb.com/article/contribution/titles/genres/GZDRMS6R742JRGAG?ref_=helpms_h#) genre as a category of artistic composition, characterized by similarities in form, style, or subject matter for a piece of content. [Reaserch by Mustafa Mahmoud Yousry](https://offscreen.com/view/going_to_the_movies) has shown that genre is the main decision factor for audience when chosing a movie to watch.\n",
    "\n",
    "<img src=\"images/genre.png\" alt=\"Alt text\" width=\"400\"/>\n",
    "\n",
    "* We introduced the Return on Investment (ROI) metric as a standardized criterion to measure the financial success of a movie relative to its investments, as well as calculated movie net profit.\n",
    "\n",
    "* We calculated Net Profit."
   ]
  },
  {
   "cell_type": "markdown",
   "metadata": {},
   "source": [
    "<img src=\"images/movie_data_erd.jpeg\" alt=\"Alt text\" width=\"1200\"/>"
   ]
  },
  {
   "cell_type": "markdown",
   "metadata": {},
   "source": [
    "## Data Analysis"
   ]
  },
  {
   "cell_type": "code",
   "execution_count": 1,
   "metadata": {},
   "outputs": [],
   "source": [
    "import pandas as pd\n",
    "import numpy as np\n",
    "import sqlite3\n",
    "from scipy import stats\n",
    "import matplotlib.pyplot as plt\n",
    "from math import ceil, floor\n",
    "import seaborn as sns"
   ]
  },
  {
   "cell_type": "markdown",
   "metadata": {},
   "source": [
    "## A risk analysis of the movie production business"
   ]
  },
  {
   "cell_type": "markdown",
   "metadata": {},
   "source": [
    "In order to provide any business recommendation, we need to understand how much money it is being bet and how much profit is desired in entering this industry. \n",
    "\n",
    "\n",
    "Our concept of risk group is then defined: a high risk group is one with a large budget that, if successful, will yield large profit, but if failed, can result in a great loss.\n",
    "\n",
    "We start by cleaning The Numbers dataset and trying to explain correlations between profit, loss and budget."
   ]
  },
  {
   "cell_type": "code",
   "execution_count": 2,
   "metadata": {},
   "outputs": [],
   "source": [
    "#function for cleaning columns and coverting to integer\n",
    "\n",
    "def clean_and_convert_to_int(column):\n",
    "    return column.replace({'\\$': '', ',': ''}, regex=True).astype(int)\n",
    "\n",
    "#function for converting to date type\n",
    "\n",
    "def convert_to_date(column):\n",
    "    return pd.to_datetime(column, errors='coerce')\n",
    "\n",
    "#function to clean object columns\n",
    "\n",
    "def clean_object(column):\n",
    "    return column.strip().lower()\n",
    "\n",
    "def split(column):\n",
    "    return column.str.split(',')"
   ]
  },
  {
   "cell_type": "code",
   "execution_count": 4,
   "metadata": {},
   "outputs": [
    {
     "ename": "FileNotFoundError",
     "evalue": "[Errno 2] No such file or directory: 'zippedData/tn.movie_budgets.csv'",
     "output_type": "error",
     "traceback": [
      "\u001b[0;31m---------------------------------------------------------------------------\u001b[0m",
      "\u001b[0;31mFileNotFoundError\u001b[0m                         Traceback (most recent call last)",
      "Cell \u001b[0;32mIn[4], line 2\u001b[0m\n\u001b[1;32m      1\u001b[0m \u001b[38;5;66;03m#Cleaning The Numbers DF\u001b[39;00m\n\u001b[0;32m----> 2\u001b[0m tn \u001b[38;5;241m=\u001b[39m pd\u001b[38;5;241m.\u001b[39mread_csv(\u001b[38;5;124m'\u001b[39m\u001b[38;5;124mzippedData/tn.movie_budgets.csv\u001b[39m\u001b[38;5;124m'\u001b[39m)\n\u001b[1;32m      4\u001b[0m \u001b[38;5;66;03m#Converting strings to int values. Ex: '$1922819' -> 1922819\u001b[39;00m\n\u001b[1;32m      5\u001b[0m tn[[\u001b[38;5;124m'\u001b[39m\u001b[38;5;124mproduction_budget\u001b[39m\u001b[38;5;124m'\u001b[39m, \u001b[38;5;124m'\u001b[39m\u001b[38;5;124mdomestic_gross\u001b[39m\u001b[38;5;124m'\u001b[39m, \u001b[38;5;124m'\u001b[39m\u001b[38;5;124mworldwide_gross\u001b[39m\u001b[38;5;124m'\u001b[39m]] \u001b[38;5;241m=\u001b[39m tn[[\u001b[38;5;124m'\u001b[39m\u001b[38;5;124mproduction_budget\u001b[39m\u001b[38;5;124m'\u001b[39m, \u001b[38;5;124m'\u001b[39m\u001b[38;5;124mdomestic_gross\u001b[39m\u001b[38;5;124m'\u001b[39m, \u001b[38;5;124m'\u001b[39m\u001b[38;5;124mworldwide_gross\u001b[39m\u001b[38;5;124m'\u001b[39m]]\u001b[38;5;241m.\u001b[39mapply(clean_and_convert_to_int)\n",
      "File \u001b[0;32m~/anaconda3/lib/python3.11/site-packages/pandas/io/parsers/readers.py:1026\u001b[0m, in \u001b[0;36mread_csv\u001b[0;34m(filepath_or_buffer, sep, delimiter, header, names, index_col, usecols, dtype, engine, converters, true_values, false_values, skipinitialspace, skiprows, skipfooter, nrows, na_values, keep_default_na, na_filter, verbose, skip_blank_lines, parse_dates, infer_datetime_format, keep_date_col, date_parser, date_format, dayfirst, cache_dates, iterator, chunksize, compression, thousands, decimal, lineterminator, quotechar, quoting, doublequote, escapechar, comment, encoding, encoding_errors, dialect, on_bad_lines, delim_whitespace, low_memory, memory_map, float_precision, storage_options, dtype_backend)\u001b[0m\n\u001b[1;32m   1013\u001b[0m kwds_defaults \u001b[38;5;241m=\u001b[39m _refine_defaults_read(\n\u001b[1;32m   1014\u001b[0m     dialect,\n\u001b[1;32m   1015\u001b[0m     delimiter,\n\u001b[0;32m   (...)\u001b[0m\n\u001b[1;32m   1022\u001b[0m     dtype_backend\u001b[38;5;241m=\u001b[39mdtype_backend,\n\u001b[1;32m   1023\u001b[0m )\n\u001b[1;32m   1024\u001b[0m kwds\u001b[38;5;241m.\u001b[39mupdate(kwds_defaults)\n\u001b[0;32m-> 1026\u001b[0m \u001b[38;5;28;01mreturn\u001b[39;00m _read(filepath_or_buffer, kwds)\n",
      "File \u001b[0;32m~/anaconda3/lib/python3.11/site-packages/pandas/io/parsers/readers.py:620\u001b[0m, in \u001b[0;36m_read\u001b[0;34m(filepath_or_buffer, kwds)\u001b[0m\n\u001b[1;32m    617\u001b[0m _validate_names(kwds\u001b[38;5;241m.\u001b[39mget(\u001b[38;5;124m\"\u001b[39m\u001b[38;5;124mnames\u001b[39m\u001b[38;5;124m\"\u001b[39m, \u001b[38;5;28;01mNone\u001b[39;00m))\n\u001b[1;32m    619\u001b[0m \u001b[38;5;66;03m# Create the parser.\u001b[39;00m\n\u001b[0;32m--> 620\u001b[0m parser \u001b[38;5;241m=\u001b[39m TextFileReader(filepath_or_buffer, \u001b[38;5;241m*\u001b[39m\u001b[38;5;241m*\u001b[39mkwds)\n\u001b[1;32m    622\u001b[0m \u001b[38;5;28;01mif\u001b[39;00m chunksize \u001b[38;5;129;01mor\u001b[39;00m iterator:\n\u001b[1;32m    623\u001b[0m     \u001b[38;5;28;01mreturn\u001b[39;00m parser\n",
      "File \u001b[0;32m~/anaconda3/lib/python3.11/site-packages/pandas/io/parsers/readers.py:1620\u001b[0m, in \u001b[0;36mTextFileReader.__init__\u001b[0;34m(self, f, engine, **kwds)\u001b[0m\n\u001b[1;32m   1617\u001b[0m     \u001b[38;5;28mself\u001b[39m\u001b[38;5;241m.\u001b[39moptions[\u001b[38;5;124m\"\u001b[39m\u001b[38;5;124mhas_index_names\u001b[39m\u001b[38;5;124m\"\u001b[39m] \u001b[38;5;241m=\u001b[39m kwds[\u001b[38;5;124m\"\u001b[39m\u001b[38;5;124mhas_index_names\u001b[39m\u001b[38;5;124m\"\u001b[39m]\n\u001b[1;32m   1619\u001b[0m \u001b[38;5;28mself\u001b[39m\u001b[38;5;241m.\u001b[39mhandles: IOHandles \u001b[38;5;241m|\u001b[39m \u001b[38;5;28;01mNone\u001b[39;00m \u001b[38;5;241m=\u001b[39m \u001b[38;5;28;01mNone\u001b[39;00m\n\u001b[0;32m-> 1620\u001b[0m \u001b[38;5;28mself\u001b[39m\u001b[38;5;241m.\u001b[39m_engine \u001b[38;5;241m=\u001b[39m \u001b[38;5;28mself\u001b[39m\u001b[38;5;241m.\u001b[39m_make_engine(f, \u001b[38;5;28mself\u001b[39m\u001b[38;5;241m.\u001b[39mengine)\n",
      "File \u001b[0;32m~/anaconda3/lib/python3.11/site-packages/pandas/io/parsers/readers.py:1880\u001b[0m, in \u001b[0;36mTextFileReader._make_engine\u001b[0;34m(self, f, engine)\u001b[0m\n\u001b[1;32m   1878\u001b[0m     \u001b[38;5;28;01mif\u001b[39;00m \u001b[38;5;124m\"\u001b[39m\u001b[38;5;124mb\u001b[39m\u001b[38;5;124m\"\u001b[39m \u001b[38;5;129;01mnot\u001b[39;00m \u001b[38;5;129;01min\u001b[39;00m mode:\n\u001b[1;32m   1879\u001b[0m         mode \u001b[38;5;241m+\u001b[39m\u001b[38;5;241m=\u001b[39m \u001b[38;5;124m\"\u001b[39m\u001b[38;5;124mb\u001b[39m\u001b[38;5;124m\"\u001b[39m\n\u001b[0;32m-> 1880\u001b[0m \u001b[38;5;28mself\u001b[39m\u001b[38;5;241m.\u001b[39mhandles \u001b[38;5;241m=\u001b[39m get_handle(\n\u001b[1;32m   1881\u001b[0m     f,\n\u001b[1;32m   1882\u001b[0m     mode,\n\u001b[1;32m   1883\u001b[0m     encoding\u001b[38;5;241m=\u001b[39m\u001b[38;5;28mself\u001b[39m\u001b[38;5;241m.\u001b[39moptions\u001b[38;5;241m.\u001b[39mget(\u001b[38;5;124m\"\u001b[39m\u001b[38;5;124mencoding\u001b[39m\u001b[38;5;124m\"\u001b[39m, \u001b[38;5;28;01mNone\u001b[39;00m),\n\u001b[1;32m   1884\u001b[0m     compression\u001b[38;5;241m=\u001b[39m\u001b[38;5;28mself\u001b[39m\u001b[38;5;241m.\u001b[39moptions\u001b[38;5;241m.\u001b[39mget(\u001b[38;5;124m\"\u001b[39m\u001b[38;5;124mcompression\u001b[39m\u001b[38;5;124m\"\u001b[39m, \u001b[38;5;28;01mNone\u001b[39;00m),\n\u001b[1;32m   1885\u001b[0m     memory_map\u001b[38;5;241m=\u001b[39m\u001b[38;5;28mself\u001b[39m\u001b[38;5;241m.\u001b[39moptions\u001b[38;5;241m.\u001b[39mget(\u001b[38;5;124m\"\u001b[39m\u001b[38;5;124mmemory_map\u001b[39m\u001b[38;5;124m\"\u001b[39m, \u001b[38;5;28;01mFalse\u001b[39;00m),\n\u001b[1;32m   1886\u001b[0m     is_text\u001b[38;5;241m=\u001b[39mis_text,\n\u001b[1;32m   1887\u001b[0m     errors\u001b[38;5;241m=\u001b[39m\u001b[38;5;28mself\u001b[39m\u001b[38;5;241m.\u001b[39moptions\u001b[38;5;241m.\u001b[39mget(\u001b[38;5;124m\"\u001b[39m\u001b[38;5;124mencoding_errors\u001b[39m\u001b[38;5;124m\"\u001b[39m, \u001b[38;5;124m\"\u001b[39m\u001b[38;5;124mstrict\u001b[39m\u001b[38;5;124m\"\u001b[39m),\n\u001b[1;32m   1888\u001b[0m     storage_options\u001b[38;5;241m=\u001b[39m\u001b[38;5;28mself\u001b[39m\u001b[38;5;241m.\u001b[39moptions\u001b[38;5;241m.\u001b[39mget(\u001b[38;5;124m\"\u001b[39m\u001b[38;5;124mstorage_options\u001b[39m\u001b[38;5;124m\"\u001b[39m, \u001b[38;5;28;01mNone\u001b[39;00m),\n\u001b[1;32m   1889\u001b[0m )\n\u001b[1;32m   1890\u001b[0m \u001b[38;5;28;01massert\u001b[39;00m \u001b[38;5;28mself\u001b[39m\u001b[38;5;241m.\u001b[39mhandles \u001b[38;5;129;01mis\u001b[39;00m \u001b[38;5;129;01mnot\u001b[39;00m \u001b[38;5;28;01mNone\u001b[39;00m\n\u001b[1;32m   1891\u001b[0m f \u001b[38;5;241m=\u001b[39m \u001b[38;5;28mself\u001b[39m\u001b[38;5;241m.\u001b[39mhandles\u001b[38;5;241m.\u001b[39mhandle\n",
      "File \u001b[0;32m~/anaconda3/lib/python3.11/site-packages/pandas/io/common.py:873\u001b[0m, in \u001b[0;36mget_handle\u001b[0;34m(path_or_buf, mode, encoding, compression, memory_map, is_text, errors, storage_options)\u001b[0m\n\u001b[1;32m    868\u001b[0m \u001b[38;5;28;01melif\u001b[39;00m \u001b[38;5;28misinstance\u001b[39m(handle, \u001b[38;5;28mstr\u001b[39m):\n\u001b[1;32m    869\u001b[0m     \u001b[38;5;66;03m# Check whether the filename is to be opened in binary mode.\u001b[39;00m\n\u001b[1;32m    870\u001b[0m     \u001b[38;5;66;03m# Binary mode does not support 'encoding' and 'newline'.\u001b[39;00m\n\u001b[1;32m    871\u001b[0m     \u001b[38;5;28;01mif\u001b[39;00m ioargs\u001b[38;5;241m.\u001b[39mencoding \u001b[38;5;129;01mand\u001b[39;00m \u001b[38;5;124m\"\u001b[39m\u001b[38;5;124mb\u001b[39m\u001b[38;5;124m\"\u001b[39m \u001b[38;5;129;01mnot\u001b[39;00m \u001b[38;5;129;01min\u001b[39;00m ioargs\u001b[38;5;241m.\u001b[39mmode:\n\u001b[1;32m    872\u001b[0m         \u001b[38;5;66;03m# Encoding\u001b[39;00m\n\u001b[0;32m--> 873\u001b[0m         handle \u001b[38;5;241m=\u001b[39m \u001b[38;5;28mopen\u001b[39m(\n\u001b[1;32m    874\u001b[0m             handle,\n\u001b[1;32m    875\u001b[0m             ioargs\u001b[38;5;241m.\u001b[39mmode,\n\u001b[1;32m    876\u001b[0m             encoding\u001b[38;5;241m=\u001b[39mioargs\u001b[38;5;241m.\u001b[39mencoding,\n\u001b[1;32m    877\u001b[0m             errors\u001b[38;5;241m=\u001b[39merrors,\n\u001b[1;32m    878\u001b[0m             newline\u001b[38;5;241m=\u001b[39m\u001b[38;5;124m\"\u001b[39m\u001b[38;5;124m\"\u001b[39m,\n\u001b[1;32m    879\u001b[0m         )\n\u001b[1;32m    880\u001b[0m     \u001b[38;5;28;01melse\u001b[39;00m:\n\u001b[1;32m    881\u001b[0m         \u001b[38;5;66;03m# Binary mode\u001b[39;00m\n\u001b[1;32m    882\u001b[0m         handle \u001b[38;5;241m=\u001b[39m \u001b[38;5;28mopen\u001b[39m(handle, ioargs\u001b[38;5;241m.\u001b[39mmode)\n",
      "\u001b[0;31mFileNotFoundError\u001b[0m: [Errno 2] No such file or directory: 'zippedData/tn.movie_budgets.csv'"
     ]
    }
   ],
   "source": [
    "#Cleaning The Numbers DF\n",
    "tn = pd.read_csv('zippedData/tn.movie_budgets.csv')\n",
    "\n",
    "#Converting strings to int values. Ex: '$1922819' -> 1922819\n",
    "tn[['production_budget', 'domestic_gross', 'worldwide_gross']] = tn[['production_budget', 'domestic_gross', 'worldwide_gross']].apply(clean_and_convert_to_int)\n",
    "\n",
    "#Getting release date in timestamp format to get the year\n",
    "tn[['release_date']] = tn[['release_date']].apply(convert_to_date)\n",
    "tn['release_year'] = tn['release_date'].dt.year\n",
    "\n",
    "#id is an internal identifier\n",
    "tn = tn.drop(columns=['id'])\n",
    "\n",
    "#Calculating Net Profit. We only regards international success. A lot of movies have huge budgets and only become profitable internationally\n",
    "tn['worldwide_net'] = tn['worldwide_gross'] - tn['production_budget']\n",
    "\n",
    "#Calculating Return Over Investment\n",
    "tn['ROI'] = (tn['worldwide_net']) / tn['production_budget']\n",
    "\n",
    "tn = tn[(tn['domestic_gross'] != 0) & (tn['worldwide_gross'] != 0)]\n",
    "tn = tn[(tn['ROI'] != 0) & (tn['ROI'] != np.inf) & (tn['ROI'] != -np.inf) & (tn['ROI'] != -100)]\n",
    "tn = tn.sort_values(by='ROI')\n",
    "\n",
    "tn"
   ]
  },
  {
   "cell_type": "code",
   "execution_count": null,
   "metadata": {},
   "outputs": [],
   "source": [
    "tn_loss = tn[tn['worldwide_net']<0]\n",
    "tn_profit = tn[tn['worldwide_net']>0]"
   ]
  },
  {
   "cell_type": "code",
   "execution_count": null,
   "metadata": {},
   "outputs": [],
   "source": [
    "fig,[ax1,ax2] = plt.subplots(ncols=2,figsize=(10,6),gridspec_kw={'wspace':0.4})\n",
    "\n",
    "p = sns.regplot(x=tn_loss['production_budget']/10**6,y=tn_loss['worldwide_net']/10**6,color='r',ax=ax1)\n",
    "ax1.set_title('Correlation Between Budget and Loss')\n",
    "ax1.set_xlabel('Budget (Millions of $)')\n",
    "ax1.set_ylabel('Worldwide Loss')\n",
    "ax1.set_ylim(-125,5)\n",
    "slope, intercept, r, p_value1, sterr = stats.linregress(x=p.get_lines()[0].get_xdata(),\n",
    "                                                        y=p.get_lines()[0].get_ydata())\n",
    "\n",
    "#add regression equation to plot\n",
    "ax1.text(0, -120, 'y = ' + str(round(slope,3)) + 'x'+  str(round(intercept,3)))\n",
    "\n",
    "\n",
    "p = sns.regplot(x=tn_profit['production_budget']/10**6,y=tn_profit['worldwide_net']/10**6,color='b',ax=ax2)\n",
    "ax2.set_ylim(0,2500)\n",
    "ax2.set_title('Correlation Between Budget and Profit')\n",
    "ax2.set_xlabel('Budget (Millions of $)')\n",
    "ax2.set_ylabel('Worldwide Profit')\n",
    "slope, intercept, r2, p_value2, sterr = stats.linregress(x=p.get_lines()[0].get_xdata(),\n",
    "                                                         y=p.get_lines()[0].get_ydata())\n",
    "\n",
    "#add regression equation to plot\n",
    "ax2.text(0, 2400, 'y = ' + str(round(slope,3)) + 'x'+ ' + '+ str(round(intercept,3)));\n",
    "print(r2);"
   ]
  },
  {
   "cell_type": "markdown",
   "metadata": {},
   "source": [
    "Based on the determination that a higher budget does indeed correlate with higher profits and losses, we divide the dataset into 3 groups with same size based on their risk level:\n",
    "- High risk invetsment, higher budget movies that will probably not have a very high ROI but have the chance of making large profit if audiences enjoy it;\n",
    "- Low risk investment, a lower cost that can have a high ROI based on the lower investment;\n",
    "- Medium risk investment, that is just inbetween.\n",
    "\n",
    "We first filter the dataset starting from 2000 to onli pick up recent trends and calculate the 2 budget thresholds for each group."
   ]
  },
  {
   "cell_type": "code",
   "execution_count": null,
   "metadata": {},
   "outputs": [],
   "source": [
    "tn_since2000 = tn[pd.to_datetime(tn['release_date']).dt.year>=2000]\n",
    "tn_since2000"
   ]
  },
  {
   "cell_type": "code",
   "execution_count": null,
   "metadata": {},
   "outputs": [],
   "source": [
    "# We will work with 2 thresholds for our analysis\n",
    "budget = tn_since2000['production_budget'].sort_values()\n",
    "n_budget = len(budget)\n",
    "threshold_budget_low = budget.iloc[int(n_budget/3)]\n",
    "threshold_budget_high = budget.iloc[int(2*n_budget/3)]\n",
    "print(f'The threshold in between low and medium risk is at ${threshold_budget_low/10**6:.02f} \\\n",
    "millions and in between medium and high is ${threshold_budget_high/10**6:0.2f} millions.')"
   ]
  },
  {
   "cell_type": "code",
   "execution_count": null,
   "metadata": {},
   "outputs": [],
   "source": [
    "tn_low_risk  = tn_since2000[tn_since2000['production_budget']<=threshold_budget_low]\n",
    "tn_medium_risk = tn_since2000[(tn_since2000['production_budget']>threshold_budget_low) & (tn_since2000['production_budget']<threshold_budget_high)]\n",
    "tn_high_risk = tn_since2000[tn_since2000['production_budget']>=threshold_budget_high]"
   ]
  },
  {
   "cell_type": "code",
   "execution_count": null,
   "metadata": {},
   "outputs": [],
   "source": [
    "fig, ax = plt.subplots(nrows=2, figsize=(12,6), gridspec_kw={'hspace': 0.5})\n",
    "# fig.tight_layout()\n",
    "\n",
    "\n",
    "median_profit_low = tn_low_risk['worldwide_net'].median()/10**6\n",
    "median_profit_medium = tn_medium_risk['worldwide_net'].median()/10**6\n",
    "median_profit_high = tn_high_risk['worldwide_net'].median()/10**6\n",
    "print(median_profit_low, median_profit_medium, median_profit_high)\n",
    "\n",
    "ax[0].hist(tn_low_risk['production_budget']/10**6, color='b',bins=20, label='Low risk productions')\n",
    "ax[0].hist(tn_medium_risk['production_budget']/10**6, color='purple',bins=20, label='Medium risk productions')\n",
    "ax[0].hist(tn_high_risk['production_budget']/10**6, color='r',bins=100, label='High risk productions');\n",
    "ax[0].set_yticks(np.arange(0,201,25))\n",
    "ax[0].set_ylim(0,200)\n",
    "ax[0].set_xticks(np.arange(0,501,10))\n",
    "ax[0].set_xlim(0,200)\n",
    "ax[0].set_xlabel('Production Budget (Millions of US Dollars)')\n",
    "ax[0].set_ylabel('Count')\n",
    "ax[0].legend()\n",
    "ax[0].set_title('Distribution of Movies Based on Budget')\n",
    "ax[0].vlines(x=threshold_budget_low/10**6,ymin=0,ymax=200,color='black')\n",
    "# ax[0].text(x=threshold_budget_low/10**6,y=175,s='Median budget')\n",
    "ax[0].vlines(x=threshold_budget_high/10**6,ymin=0,ymax=200,color='black')\n",
    "# ax[0].text(x=threshold_budget_high,y=175,s='Median budget')\n",
    "\n",
    "ax[1].scatter(x=tn_low_risk['production_budget']/10**6, y=tn_low_risk['worldwide_net']/10**6,color='b',label='Low risk productions')\n",
    "ax[1].scatter(x=tn_medium_risk['production_budget']/10**6, y=tn_medium_risk['worldwide_net']/10**6,color='purple',label='Medium risk productions')\n",
    "ax[1].scatter(x=tn_high_risk['production_budget']/10**6, y=tn_high_risk['worldwide_net']/10**6, color='r', label='High risk productions')\n",
    "ax[1].set_title('International Profit Versus Budget')\n",
    "ax[1].set_xlabel('Production budget (Millions of US Dollars)')\n",
    "ax[1].set_ylabel('International Profit (Millions of US Dollars)')\n",
    "ax[1].set_yticks(np.arange(0,1000,25))\n",
    "ax[1].set_ylim(0.1,10000)\n",
    "ax[1].set_xticks(np.arange(0,501,50))\n",
    "ax[1].set_xlim(1,500)\n",
    "ax[1].vlines(x=threshold_budget_low/10**6,ymin=0,ymax=200,color='black')\n",
    "ax[1].vlines(x=threshold_budget_high/10**6,ymin=0,ymax=200,color='black')\n",
    "ax[1].hlines(xmin=0,xmax=500,y=median_profit_low,color='blue', linestyle='dashed')\n",
    "ax[1].hlines(xmin=0,xmax=500,y=median_profit_medium,color='purple', linestyle='dashed')\n",
    "ax[1].hlines(xmin=0,xmax=500,y=median_profit_high,color='red', linestyle='dashed')\n",
    "ax[1].set_yscale('log')\n",
    "ax[1].text(x=335,y=0.8,s='Low Risk Median Profit (~$0.6 Million)')\n",
    "ax[1].text(x=335,y=20,s='Medium Risk Median Profit (~$16 Million)')\n",
    "ax[1].text(x=335,y=100,s='High Hisk Median Profit (~$85 Million)')\n",
    "\n",
    "# ax[1].text(x=21,y=2000,s='Median Profit for Low Risk Movie')"
   ]
  },
  {
   "cell_type": "markdown",
   "metadata": {},
   "source": [
    "# Low Risk - Budget < $11.50 millions"
   ]
  },
  {
   "cell_type": "markdown",
   "metadata": {},
   "source": [
    "The first thing we need to do is join the table with budgets and profit with the table that contains genres. Genres are in both IMDB and Movie DB meaning that in order to lose the least amount of information, we need to perform joins with different tables, concatenate and remove duplicates."
   ]
  },
  {
   "cell_type": "code",
   "execution_count": null,
   "metadata": {},
   "outputs": [],
   "source": [
    "tn_low_risk"
   ]
  },
  {
   "cell_type": "code",
   "execution_count": null,
   "metadata": {},
   "outputs": [],
   "source": [
    "conn = sqlite3.connect('data/im.db')\n",
    "\n",
    "imdb = pd.read_sql(\n",
    "    \"\"\"\n",
    "    SELECT  mb.primary_title AS movie,\n",
    "            mb.start_year, \n",
    "            mb.runtime_minutes, \n",
    "            mb.genres, \n",
    "            per.primary_name AS director\n",
    "    FROM movie_basics AS mb\n",
    "    JOIN movie_akas AS ma\n",
    "    USING(movie_id)\n",
    "    JOIN directors AS dir\n",
    "    USING(movie_id)\n",
    "    JOIN persons AS per\n",
    "    USING(person_id)\n",
    "    GROUP BY movie_id\n",
    "    \n",
    "    \"\"\"\n",
    ", conn\n",
    ")\n",
    "imdb"
   ]
  },
  {
   "cell_type": "code",
   "execution_count": null,
   "metadata": {},
   "outputs": [],
   "source": [
    "genre_dict = {\n",
    "    '28': 'Action',\n",
    "    '12': 'Adventure',\n",
    "    '16': 'Animation',\n",
    "    '35': 'Comedy',\n",
    "    '80': 'Crime',\n",
    "    '99': 'Documentary',\n",
    "    '18': 'Drama',\n",
    "    '10751': 'Family',\n",
    "    '14': 'Fantasy',\n",
    "    '36': 'History',\n",
    "    '27': 'Horror',\n",
    "    '10402': 'Music',\n",
    "    '9648': 'Mystery',\n",
    "    '10749': 'Romance',\n",
    "    '878': 'Science Fiction',\n",
    "    '10770': 'TV Movie',\n",
    "    '53': 'Thriller',\n",
    "    '10752': 'War',\n",
    "    '37': 'Western'\n",
    "}"
   ]
  },
  {
   "cell_type": "code",
   "execution_count": null,
   "metadata": {},
   "outputs": [],
   "source": [
    "movie_db = pd.read_csv('data/tmdb.movies.csv')\n",
    "movie_db['genre_ids'] = movie_db['genre_ids'].replace({'\\[': '', '\\]': ''}, regex=True)\n",
    "movie_db['genre_ids'] = movie_db['genre_ids'].str.split(',')\n",
    "movie_db = movie_db.explode('genre_ids')\n",
    "movie_db['genre_ids'] = movie_db['genre_ids'].apply(clean_object)\n",
    "movie_db['genre_ids'] = movie_db['genre_ids'].map(genre_dict)\n",
    "movie_db.drop(labels=['Unnamed: 0', 'id', 'original_language', 'popularity', 'release_date','vote_average', 'vote_count'],axis=1,inplace=True)\n",
    "movie_db.rename(columns={'title':'movie','genre_ids':'genres'},inplace=True)\n",
    "movie_db"
   ]
  },
  {
   "cell_type": "code",
   "execution_count": null,
   "metadata": {},
   "outputs": [],
   "source": [
    "df_lowrisk_merged1 = pd.merge(tn_low_risk,movie_db,how='inner',on='movie')\n",
    "df_lowrisk_merged1.drop_duplicates(subset=['release_date','genres','movie'], inplace=True)\n",
    "df_lowrisk_merged1.drop('original_title', axis=1, inplace=True)\n",
    "df_lowrisk_merged1.dropna(subset=['genres', 'worldwide_net', 'movie','production_budget'],inplace=True)\n",
    "df_lowrisk_merged1"
   ]
  },
  {
   "cell_type": "code",
   "execution_count": null,
   "metadata": {},
   "outputs": [],
   "source": [
    "df_lowrisk_merged2 = pd.merge(left=tn_low_risk, right=movie_db,how='inner',left_on='movie', right_on='original_title')\n",
    "df_lowrisk_merged2.drop_duplicates(subset=['release_date','genres','movie_x'], inplace=True)\n",
    "df_lowrisk_merged2.rename(columns={'movie_x':'movie'},inplace=True)\n",
    "df_lowrisk_merged2.drop(['original_title', 'movie_y'],axis=1,inplace=True)\n",
    "df_lowrisk_merged2.dropna(subset=['genres', 'worldwide_net', 'movie','production_budget'],inplace=True)\n",
    "df_lowrisk_merged2"
   ]
  },
  {
   "cell_type": "code",
   "execution_count": null,
   "metadata": {},
   "outputs": [],
   "source": [
    "df_lowrisk_merged3 = pd.merge(tn_low_risk,imdb,how='inner',on='movie')\n",
    "df_lowrisk_merged3.drop_duplicates(subset=['release_date','movie'], inplace=True)\n",
    "df_lowrisk_merged3.drop(['runtime_minutes', 'start_year','director'], axis=1, inplace=True)\n",
    "df_lowrisk_merged3.dropna(subset=['genres', 'worldwide_net', 'movie','production_budget'],inplace=True)\n",
    "df_lowrisk_merged3"
   ]
  },
  {
   "cell_type": "markdown",
   "metadata": {},
   "source": [
    "We explode the lists with the genres so that movies might be duplicate buteach entry will have a diffrent genre it is part of."
   ]
  },
  {
   "cell_type": "code",
   "execution_count": null,
   "metadata": {},
   "outputs": [],
   "source": [
    "df_lowrisk_merged3['genres'] = df_lowrisk_merged3['genres'].str.split(',')\n",
    "df_lowrisk_merged3 = df_lowrisk_merged3.explode('genres')\n",
    "# df_lowrisk_merged3['genres'].value_counts()"
   ]
  },
  {
   "cell_type": "code",
   "execution_count": null,
   "metadata": {},
   "outputs": [],
   "source": [
    "df_lowrisk_exploded = pd.concat([df_lowrisk_merged1,df_lowrisk_merged2,df_lowrisk_merged3])\n",
    "df_lowrisk_exploded.drop_duplicates(subset=['release_date','movie','genres'], inplace=True)\n",
    "df_lowrisk_exploded['genres'].value_counts()"
   ]
  },
  {
   "cell_type": "markdown",
   "metadata": {},
   "source": [
    "Finally, we rename same genres written diffrently."
   ]
  },
  {
   "cell_type": "code",
   "execution_count": null,
   "metadata": {},
   "outputs": [],
   "source": [
    "df_lowrisk_exploded['genres'].replace(to_replace='Science Fiction', value='Sci-Fi',inplace=True)\n",
    "df_lowrisk_exploded['genres'].value_counts()"
   ]
  },
  {
   "cell_type": "markdown",
   "metadata": {},
   "source": [
    "## Low Risk - Genre"
   ]
  },
  {
   "cell_type": "markdown",
   "metadata": {},
   "source": [
    "Finally, the dataframe has now all the information from genres and movies we need."
   ]
  },
  {
   "cell_type": "code",
   "execution_count": null,
   "metadata": {},
   "outputs": [],
   "source": [
    "df_lowrisk_exploded.groupby('genres')['ROI'].median().sort_values(ascending=False).reset_index().head()"
   ]
  },
  {
   "cell_type": "code",
   "execution_count": null,
   "metadata": {},
   "outputs": [],
   "source": [
    "df_lowrisk_exploded.groupby('genres')['worldwide_net'].median().sort_values(ascending=False).reset_index().head()"
   ]
  },
  {
   "cell_type": "markdown",
   "metadata": {},
   "source": [
    "Horror and Mystery have very similar ROI's and international profits. In order to determine which is more profitable, we use a t-test."
   ]
  },
  {
   "cell_type": "code",
   "execution_count": null,
   "metadata": {},
   "outputs": [],
   "source": [
    "mean_horror = df_lowrisk_exploded[df_lowrisk_exploded['genres']=='Horror']['worldwide_net'].mean()/10**6\n",
    "std_horror = df_lowrisk_exploded[df_lowrisk_exploded['genres']=='Horror']['worldwide_net'].std()/10**6\n",
    "n_horror = len(df_lowrisk_exploded[df_lowrisk_exploded['genres']=='Horror']['worldwide_net'])\n",
    "\n",
    "t_horror_20 = (20-mean_horror)/(std_horror/n_horror**0.5)\n",
    "t_horror_35 = (35-mean_horror)/(std_horror/n_horror**0.5)\n",
    "t_horror_50 = (50-mean_horror)/(std_horror/n_horror**0.5)\n",
    "print(f'T scores for profit of: \\n$20 million = {t_horror_20}\\n$35 million = {t_horror_35}\\n$50 million = {t_horror_50}\\n')\n",
    "\n",
    "prob_horror_20 = 1-stats.t.cdf(t_horror_20,df=n_horror-1)\n",
    "prob_horror_35 = 1-stats.t.cdf(t_horror_35,df=n_horror-1)\n",
    "prob_horror_50 = 1-stats.t.cdf(t_horror_50,df=n_horror-1)\n",
    "print(f'Probability for profit of: \\n$20 million = {prob_horror_20}\\n$35 million = {prob_horror_35}\\n$50 million = {prob_horror_50}')\n",
    "\n",
    "horror_avg_cost = df_lowrisk_exploded[df_lowrisk_exploded['genres'] == 'Horror']['production_budget'].mean()\n",
    "print(f'Average cost of Horror movies below ${threshold_budget_low/10**6:0.2f} million are ${horror_avg_cost/10**6:.02f} millions')"
   ]
  },
  {
   "cell_type": "code",
   "execution_count": null,
   "metadata": {},
   "outputs": [],
   "source": [
    "mean_mystery = df_lowrisk_exploded[df_lowrisk_exploded['genres']=='Mystery']['worldwide_net'].mean()/10**6\n",
    "std_mystery = df_lowrisk_exploded[df_lowrisk_exploded['genres']=='Mystery']['worldwide_net'].std()/10**6\n",
    "n_mystery = len(df_lowrisk_exploded[df_lowrisk_exploded['genres']=='Mystery']['worldwide_net'])\n",
    "\n",
    "t_mystery_20 = (20-mean_mystery)/(std_mystery/n_mystery**0.5)\n",
    "t_mystery_35 = (35-mean_mystery)/(std_mystery/n_mystery**0.5)\n",
    "t_mystery_50 = (50-mean_mystery)/(std_mystery/n_mystery**0.5)\n",
    "print(f'T scores for profit of: \\n$20 million = {t_mystery_20}\\n$35 million = {t_mystery_35}\\n$50 million = {t_mystery_50}\\n')\n",
    "\n",
    "prob_mystery_20 = 1-stats.t.cdf(t_mystery_20,df=n_mystery-1)\n",
    "prob_mystery_35 = 1-stats.t.cdf(t_mystery_35,df=n_mystery-1)\n",
    "prob_mystery_50 = 1-stats.t.cdf(t_mystery_50,df=n_mystery-1)\n",
    "print(f'Probability for profit f: \\n$20 million = {prob_mystery_20}\\n$35 million = {prob_mystery_35}\\n$50 million = {prob_mystery_50}')\n",
    "\n",
    "mystery_avg_cost = df_lowrisk_exploded[df_lowrisk_exploded['genres'] == 'Mystery']['production_budget'].mean()\n",
    "print(f'Average cost of Mystery movies below ${threshold_budget_low/10**6:0.2f} million are ${mystery_avg_cost/10**6:.02f} millions')"
   ]
  },
  {
   "cell_type": "markdown",
   "metadata": {},
   "source": [
    "### This means that Horror movies will cost about the same and will have a higher chance of getting more profit."
   ]
  },
  {
   "cell_type": "markdown",
   "metadata": {},
   "source": [
    "## Low Risk - Director"
   ]
  },
  {
   "cell_type": "markdown",
   "metadata": {},
   "source": [
    "Knowing which genre is more profitable, we need to choose directors who succed in making profitable horror movies. For this, we do not restrict the detaframe to early releases."
   ]
  },
  {
   "cell_type": "code",
   "execution_count": null,
   "metadata": {},
   "outputs": [],
   "source": [
    "df_merged = pd.merge(tn,imdb,how='inner',on='movie')\n",
    "df_merged.drop_duplicates(subset=['release_date','movie'], inplace=True)\n",
    "df_merged['genres'] = df_merged['genres'].str.split(',')\n",
    "df_merged = df_merged.explode(column='genres')\n",
    "df_horror = df_merged[df_merged['genres']=='Horror']\n",
    "df_horror = df_horror[df_horror['production_budget']<=threshold_budget_low]\n",
    "df_horror.sort_values(by='worldwide_net',ascending=False)"
   ]
  },
  {
   "cell_type": "code",
   "execution_count": null,
   "metadata": {},
   "outputs": [],
   "source": [
    "director_horror = df_horror.groupby('director')['worldwide_net'].mean().sort_values(ascending=False).reset_index()\n",
    "director_horror.head(10)"
   ]
  },
  {
   "cell_type": "code",
   "execution_count": null,
   "metadata": {},
   "outputs": [],
   "source": [
    "df_horror[df_horror['director'].isin(director_horror['director'].loc[:5])].sort_values('director')"
   ]
  },
  {
   "cell_type": "markdown",
   "metadata": {},
   "source": [
    "### For the animation movie, we recommend the directors:\n",
    "- Jordan Peele;\n",
    "- John R. Leonetti."
   ]
  },
  {
   "cell_type": "markdown",
   "metadata": {},
   "source": [
    "## Low risk - Release Month"
   ]
  },
  {
   "cell_type": "code",
   "execution_count": null,
   "metadata": {},
   "outputs": [],
   "source": [
    "df_horror['release_month'] = pd.to_datetime(df_horror['release_date'], format='%m').dt.month\n",
    "df_horror.drop('release_date',axis=1,inplace=True)\n",
    "df_horror.head()"
   ]
  },
  {
   "cell_type": "code",
   "execution_count": null,
   "metadata": {},
   "outputs": [],
   "source": [
    "horror_month_release = df_horror.groupby('release_month')['movie'].count().reset_index()\n",
    "\n",
    "fig,ax = plt.subplots(figsize=(10,5))\n",
    "\n",
    "ax.bar(x='release_month',height='movie',data=horror_month_release);\n",
    "ax.set_xticks(np.arange(1,13,1))\n",
    "ax.set_yticks(np.arange(0,30,5))\n",
    "ax.set_xlabel('Month')\n",
    "ax.set_ylabel('Number of movies released');\n",
    "# ax.vlines(x=2,ymin=0,ymax=18, color='r')\n",
    "ax.vlines(x=4,ymin=0,ymax=25, color='r')\n",
    "ax.vlines(x=10,ymin=0,ymax=25, color='r')\n",
    "# ax.text(x=2.1,y=17, s='Spring Break')\n",
    "ax.text(x=4.1,y=22.5, s='Easter')\n",
    "ax.text(x=10.05,y=22.5, s='Halloween')\n",
    "ax.set_title('Release Dates for Horror Movies');"
   ]
  },
  {
   "cell_type": "markdown",
   "metadata": {},
   "source": [
    "Two options of release dates.\n",
    "- April - Easter: a lot of Horror movies have religious subtext;\n",
    "- November - Halloween.\n",
    "\n",
    "We recommend releasing the movie during Halloween."
   ]
  },
  {
   "cell_type": "markdown",
   "metadata": {},
   "source": [
    "## Low risk - Runtime"
   ]
  },
  {
   "cell_type": "code",
   "execution_count": null,
   "metadata": {},
   "outputs": [],
   "source": [
    "n_horror = len(df_horror['runtime_minutes'].dropna())\n",
    "mean_horror = df_horror['runtime_minutes'].dropna().mean()\n",
    "std_horror = df_horror['runtime_minutes'].dropna().std()\n",
    "Tcrit = stats.t.ppf(0.975,n_horror-1)\n",
    "\n",
    "runtime_horror_low = mean_horror - Tcrit*std_horror/n_horror**0.5\n",
    "runtime_horror_up = mean_horror + Tcrit*std_horror/n_horror**0.5\n",
    "\n",
    "print(f'Runtime should be around {round(runtime_horror_low)} to {ceil(runtime_horror_up)} minutes')\n"
   ]
  },
  {
   "cell_type": "markdown",
   "metadata": {},
   "source": [
    "# Medium Risk"
   ]
  },
  {
   "cell_type": "markdown",
   "metadata": {},
   "source": [
    "We now repeat the same steps with medium risk budgets."
   ]
  },
  {
   "cell_type": "code",
   "execution_count": null,
   "metadata": {},
   "outputs": [],
   "source": [
    "df_mediumrisk_merged1 = pd.merge(tn_medium_risk,movie_db,how='inner',on='movie')\n",
    "df_mediumrisk_merged1.drop_duplicates(subset=['release_date','genres','movie'], inplace=True)\n",
    "df_mediumrisk_merged1.drop('original_title', axis=1, inplace=True)\n",
    "df_mediumrisk_merged1"
   ]
  },
  {
   "cell_type": "code",
   "execution_count": null,
   "metadata": {},
   "outputs": [],
   "source": [
    "df_mediumrisk_merged2 = pd.merge(left=tn_medium_risk, right=movie_db,how='inner',left_on='movie', right_on='original_title')\n",
    "df_mediumrisk_merged2.drop_duplicates(subset=['release_date','genres','movie_x'], inplace=True)\n",
    "df_mediumrisk_merged2.rename(columns={'movie_x':'movie'},inplace=True)\n",
    "df_mediumrisk_merged2.drop(['original_title', 'movie_y'],axis=1,inplace=True)\n",
    "df_mediumrisk_merged2"
   ]
  },
  {
   "cell_type": "code",
   "execution_count": null,
   "metadata": {},
   "outputs": [],
   "source": [
    "df_mediumrisk_merged3 = pd.merge(tn_medium_risk,imdb,how='inner',on='movie')\n",
    "df_mediumrisk_merged3.drop_duplicates(subset=['release_date','movie'], inplace=True)\n",
    "df_mediumrisk_merged3.drop(['runtime_minutes', 'start_year','director'], axis=1, inplace=True)\n",
    "df_mediumrisk_merged3"
   ]
  },
  {
   "cell_type": "code",
   "execution_count": null,
   "metadata": {},
   "outputs": [],
   "source": [
    "df_mediumrisk_merged3['genres'] = df_mediumrisk_merged3['genres'].str.split(',')\n",
    "df_mediumrisk_merged3 = df_mediumrisk_merged3.explode('genres')\n",
    "df_mediumrisk_merged3['genres'].value_counts()"
   ]
  },
  {
   "cell_type": "code",
   "execution_count": null,
   "metadata": {},
   "outputs": [],
   "source": [
    "df_mediumrisk_exploded = pd.concat([df_mediumrisk_merged1, df_mediumrisk_merged2, df_mediumrisk_merged3])\n",
    "df_mediumrisk_exploded.drop_duplicates(subset=['release_date','movie','genres'], inplace=True)\n",
    "df_mediumrisk_exploded['genres'].value_counts()"
   ]
  },
  {
   "cell_type": "code",
   "execution_count": null,
   "metadata": {},
   "outputs": [],
   "source": [
    "df_mediumrisk_exploded['genres'].replace(to_replace='Science Fiction', value='Sci-Fi',inplace=True)\n",
    "df_mediumrisk_exploded['genres'].value_counts()"
   ]
  },
  {
   "cell_type": "markdown",
   "metadata": {},
   "source": [
    "## Medium Risk - Genre"
   ]
  },
  {
   "cell_type": "code",
   "execution_count": null,
   "metadata": {},
   "outputs": [],
   "source": [
    "df_mediumrisk_exploded.groupby('genres')['worldwide_net'].count().sort_values(ascending=False).reset_index()"
   ]
  },
  {
   "cell_type": "code",
   "execution_count": null,
   "metadata": {},
   "outputs": [],
   "source": [
    "df_mediumrisk_exploded['genres'].replace(to_replace='Musical', value='Music')\n",
    "df_mediumrisk_exploded = df_mediumrisk_exploded[df_mediumrisk_exploded['genres']!='TV Movie']"
   ]
  },
  {
   "cell_type": "code",
   "execution_count": null,
   "metadata": {},
   "outputs": [],
   "source": [
    "df_mediumrisk_exploded.groupby('genres')['worldwide_net'].median().sort_values(ascending=False).reset_index().head(10)"
   ]
  },
  {
   "cell_type": "code",
   "execution_count": null,
   "metadata": {},
   "outputs": [],
   "source": [
    "#Let us calculate the probability that an horror and horror movie will make profits\n",
    "mean_horror = df_mediumrisk_exploded[df_mediumrisk_exploded['genres']=='Horror']['worldwide_net'].mean()/10**6\n",
    "std_horror = df_mediumrisk_exploded[df_mediumrisk_exploded['genres']=='Horror']['worldwide_net'].std()/10**6\n",
    "n_horror = len(df_mediumrisk_exploded[df_mediumrisk_exploded['genres']=='Horror']['worldwide_net'])\n",
    "\n",
    "t_horror_1 = (20-mean_horror)/(std_horror/n_horror**0.5)\n",
    "t_horror_2 = (40-mean_horror)/(std_horror/n_horror**0.5)\n",
    "t_horror_3 = (60-mean_horror)/(std_horror/n_horror**0.5)\n",
    "t_horror_4 = (80-mean_horror)/(std_horror/n_horror**0.5)\n",
    "print(f'T scores for profit of: \\n$20 million = {t_horror_1}\\n$40 million = {t_horror_2}\\n$60 million = {t_horror_3}\\n$80 million = {t_horror_4}\\n')\n",
    "\n",
    "prob_horror_1 = 1-stats.t.cdf(t_horror_1,df=n_horror-1)\n",
    "prob_horror_2 = 1-stats.t.cdf(t_horror_2,df=n_horror-1)\n",
    "prob_horror_3 = 1-stats.t.cdf(t_horror_3,df=n_horror-1)\n",
    "prob_horror_4 = 1-stats.t.cdf(t_horror_4,df=n_horror-1)\n",
    "print(f'Probability for profit f: \\n$20 million = {prob_horror_1}\\n$40 million = {prob_horror_2}\\n$60 million = {prob_horror_3}\\n$80 million = {prob_horror_4}\\n')\n",
    "\n",
    "horror_avg_cost = df_mediumrisk_exploded[df_mediumrisk_exploded['genres'] == 'Horror']['production_budget'].mean()\n",
    "print(f'Average cost of horror movies above ${threshold_budget_low/10**6:0.02f} millions but below ${threshold_budget_high/10**6} \\\n",
    "millions are ${horror_avg_cost/10**6:.02f} millions')"
   ]
  },
  {
   "cell_type": "code",
   "execution_count": null,
   "metadata": {},
   "outputs": [],
   "source": [
    "#Let us calculate the probability that an music and music movie will make profits\n",
    "mean_music = df_mediumrisk_exploded[df_mediumrisk_exploded['genres']=='Music']['worldwide_net'].mean()/10**6\n",
    "std_music = df_mediumrisk_exploded[df_mediumrisk_exploded['genres']=='Music']['worldwide_net'].std()/10**6\n",
    "n_music = len(df_mediumrisk_exploded[df_mediumrisk_exploded['genres']=='Music']['worldwide_net'])\n",
    "\n",
    "t_music_1 = (20-mean_music)/(std_music/n_music**0.5)\n",
    "t_music_2 = (40-mean_music)/(std_music/n_music**0.5)\n",
    "t_music_3 = (60-mean_music)/(std_music/n_music**0.5)\n",
    "t_music_4 = (80-mean_music)/(std_music/n_music**0.5)\n",
    "print(f'T scores for profit of: \\n$20 million = {t_music_1}\\n$40 million = {t_music_2}\\n$60 million = {t_music_3}\\n$80 million = {t_music_4}\\n')\n",
    "\n",
    "prob_music_1 = 1-stats.t.cdf(t_music_1,df=n_music-1)\n",
    "prob_music_2 = 1-stats.t.cdf(t_music_2,df=n_music-1)\n",
    "prob_music_3 = 1-stats.t.cdf(t_music_3,df=n_music-1)\n",
    "prob_music_4 = 1-stats.t.cdf(t_music_4,df=n_music-1)\n",
    "print(f'Probability for profit f: \\n$20 million = {prob_music_1}\\n$40 million = {prob_music_2}\\n$60 million = {prob_music_3}\\n$80 million = {prob_music_4}\\n')\n",
    "\n",
    "music_avg_cost = df_mediumrisk_exploded[df_mediumrisk_exploded['genres'] == 'Music']['production_budget'].mean()\n",
    "print(f'Average cost of Music movies above ${threshold_budget_low/10**6:0.02f} millions but below ${threshold_budget_high/10**6} \\\n",
    "millions are ${music_avg_cost/10**6:.02f} millions')"
   ]
  },
  {
   "cell_type": "code",
   "execution_count": null,
   "metadata": {},
   "outputs": [],
   "source": [
    "#Let us calculate the probability that an comedy and comedy movie will make profits\n",
    "mean_comedy = df_mediumrisk_exploded[df_mediumrisk_exploded['genres']=='Comedy']['worldwide_net'].mean()/10**6\n",
    "std_comedy = df_mediumrisk_exploded[df_mediumrisk_exploded['genres']=='Comedy']['worldwide_net'].std()/10**6\n",
    "n_comedy = len(df_mediumrisk_exploded[df_mediumrisk_exploded['genres']=='Comedy']['worldwide_net'])\n",
    "\n",
    "t_comedy_1 = (20-mean_comedy)/(std_comedy/n_comedy**0.5)\n",
    "t_comedy_2 = (40-mean_comedy)/(std_comedy/n_comedy**0.5)\n",
    "t_comedy_3 = (60-mean_comedy)/(std_comedy/n_comedy**0.5)\n",
    "t_comedy_4 = (80-mean_comedy)/(std_comedy/n_comedy**0.5)\n",
    "print(f'T scores for profit of: \\n$20 million = {t_comedy_1}\\n$40 million = {t_comedy_2}\\n$60 million = {t_comedy_3}\\n$80 million = {t_comedy_4}\\n')\n",
    "\n",
    "prob_comedy_1 = 1-stats.t.cdf(t_comedy_1,df=n_comedy-1)\n",
    "prob_comedy_2 = 1-stats.t.cdf(t_comedy_2,df=n_comedy-1)\n",
    "prob_comedy_3 = 1-stats.t.cdf(t_comedy_3,df=n_comedy-1)\n",
    "prob_comedy_4 = 1-stats.t.cdf(t_comedy_4,df=n_comedy-1)\n",
    "print(f'Probability for profit f: \\n$20 million = {prob_comedy_1}\\n$40 million = {prob_comedy_2}\\n$60 million = {prob_comedy_3}\\n$80 million = {prob_comedy_4}\\n')\n",
    "\n",
    "comedy_avg_cost = df_mediumrisk_exploded[df_mediumrisk_exploded['genres'] == 'Comedy']['production_budget'].mean()\n",
    "print(f'Average cost of Comedy movies above ${threshold_budget_low/10**6:0.02f} millions but below ${threshold_budget_high/10**6} \\\n",
    "millions are ${comedy_avg_cost/10**6:.02f} millions')"
   ]
  },
  {
   "cell_type": "code",
   "execution_count": null,
   "metadata": {},
   "outputs": [],
   "source": [
    "#Let us calculate the probability that an fantasy and fantasy movie will make profits\n",
    "mean_fantasy = df_mediumrisk_exploded[df_mediumrisk_exploded['genres']=='Fantasy']['worldwide_net'].mean()/10**6\n",
    "std_fantasy = df_mediumrisk_exploded[df_mediumrisk_exploded['genres']=='Fantasy']['worldwide_net'].std()/10**6\n",
    "n_fantasy = len(df_mediumrisk_exploded[df_mediumrisk_exploded['genres']=='Fantasy']['worldwide_net'])\n",
    "\n",
    "t_fantasy_1 = (20-mean_fantasy)/(std_fantasy/n_fantasy**0.5)\n",
    "t_fantasy_2 = (40-mean_fantasy)/(std_fantasy/n_fantasy**0.5)\n",
    "t_fantasy_3 = (60-mean_fantasy)/(std_fantasy/n_fantasy**0.5)\n",
    "t_fantasy_4 = (80-mean_fantasy)/(std_fantasy/n_fantasy**0.5)\n",
    "print(f'T scores for profit of: \\n$20 million = {t_fantasy_1}\\n$40 million = {t_fantasy_2}\\n$60 million = {t_fantasy_3}\\n$80 million = {t_fantasy_4}\\n')\n",
    "\n",
    "prob_fantasy_1 = 1-stats.t.cdf(t_fantasy_1,df=n_fantasy-1)\n",
    "prob_fantasy_2 = 1-stats.t.cdf(t_fantasy_2,df=n_fantasy-1)\n",
    "prob_fantasy_3 = 1-stats.t.cdf(t_fantasy_3,df=n_fantasy-1)\n",
    "prob_fantasy_4 = 1-stats.t.cdf(t_fantasy_4,df=n_fantasy-1)\n",
    "print(f'Probability for profit f: \\n$20 million = {prob_fantasy_1}\\n$40 million = {prob_fantasy_2}\\n$60 million = {prob_fantasy_3}\\n$80 million = {prob_fantasy_4}\\n')\n",
    "\n",
    "fantasy_avg_cost = df_mediumrisk_exploded[df_mediumrisk_exploded['genres'] == 'Fantasy']['production_budget'].mean()\n",
    "print(f'Average cost of Fantasy movies above ${threshold_budget_low/10**6:0.02f} millions but below ${threshold_budget_high/10**6} \\\n",
    "millions are ${fantasy_avg_cost/10**6:.02f} millions')"
   ]
  },
  {
   "cell_type": "code",
   "execution_count": null,
   "metadata": {},
   "outputs": [],
   "source": [
    "#Let us calculate the probability that an adventure and adventure movie will make profits\n",
    "mean_adventure = df_mediumrisk_exploded[df_mediumrisk_exploded['genres']=='Adventure']['worldwide_net'].mean()/10**6\n",
    "std_adventure = df_mediumrisk_exploded[df_mediumrisk_exploded['genres']=='Adventure']['worldwide_net'].std()/10**6\n",
    "n_adventure = len(df_mediumrisk_exploded[df_mediumrisk_exploded['genres']=='Adventure']['worldwide_net'])\n",
    "\n",
    "t_adventure_1 = (20-mean_adventure)/(std_adventure/n_adventure**0.5)\n",
    "t_adventure_2 = (40-mean_adventure)/(std_adventure/n_adventure**0.5)\n",
    "t_adventure_3 = (60-mean_adventure)/(std_adventure/n_adventure**0.5)\n",
    "t_adventure_4 = (80-mean_adventure)/(std_adventure/n_adventure**0.5)\n",
    "print(f'T scores for profit of: \\n$20 million = {t_adventure_1}\\n$40 million = {t_adventure_2}\\n$60 million = {t_adventure_3}\\n$80 million = {t_adventure_4}\\n')\n",
    "\n",
    "prob_adventure_1 = 1-stats.t.cdf(t_adventure_1,df=n_adventure-1)\n",
    "prob_adventure_2 = 1-stats.t.cdf(t_adventure_2,df=n_adventure-1)\n",
    "prob_adventure_3 = 1-stats.t.cdf(t_adventure_3,df=n_adventure-1)\n",
    "prob_adventure_4 = 1-stats.t.cdf(t_adventure_4,df=n_adventure-1)\n",
    "print(f'Probability for profit f: \\n$20 million = {prob_adventure_1}\\n$40 million = {prob_adventure_2}\\n$60 million = {prob_adventure_3}\\n$80 million = {prob_adventure_4}\\n')\n",
    "\n",
    "adventure_avg_cost = df_mediumrisk_exploded[df_mediumrisk_exploded['genres'] == 'Adventure']['production_budget'].mean()\n",
    "print(f'Average cost of Adventure movies above ${threshold_budget_low/10**6:0.02f} millions but below ${threshold_budget_high/10**6} \\\n",
    "millions are ${adventure_avg_cost/10**6:.02f} millions')"
   ]
  },
  {
   "cell_type": "code",
   "execution_count": null,
   "metadata": {},
   "outputs": [],
   "source": [
    "#Let us calculate the probability that an family and family movie will make profits\n",
    "mean_family = df_mediumrisk_exploded[df_mediumrisk_exploded['genres']=='Family']['worldwide_net'].mean()/10**6\n",
    "std_family = df_mediumrisk_exploded[df_mediumrisk_exploded['genres']=='Family']['worldwide_net'].std()/10**6\n",
    "n_family = len(df_mediumrisk_exploded[df_mediumrisk_exploded['genres']=='Family']['worldwide_net'])\n",
    "\n",
    "t_family_1 = (20-mean_family)/(std_family/n_family**0.5)\n",
    "t_family_2 = (40-mean_family)/(std_family/n_family**0.5)\n",
    "t_family_3 = (60-mean_family)/(std_family/n_family**0.5)\n",
    "t_family_4 = (80-mean_family)/(std_family/n_family**0.5)\n",
    "print(f'T scores for profit of: \\n$20 million = {t_family_1}\\n$40 million = {t_family_2}\\n$60 million = {t_family_3}\\n$80 million = {t_family_4}\\n')\n",
    "\n",
    "prob_family_1 = 1-stats.t.cdf(t_family_1,df=n_family-1)\n",
    "prob_family_2 = 1-stats.t.cdf(t_family_2,df=n_family-1)\n",
    "prob_family_3 = 1-stats.t.cdf(t_family_3,df=n_family-1)\n",
    "prob_family_4 = 1-stats.t.cdf(t_family_4,df=n_family-1)\n",
    "print(f'Probability for profit f: \\n$20 million = {prob_family_1}\\n$40 million = {prob_family_2}\\n$60 million = {prob_family_3}\\n$80 million = {prob_family_4}\\n')\n",
    "\n",
    "family_avg_cost = df_mediumrisk_exploded[df_mediumrisk_exploded['genres'] == 'Family']['production_budget'].mean()\n",
    "print(f'Average cost of Family movies above ${threshold_budget_low/10**6:0.02f} millions but below ${threshold_budget_high/10**6} \\\n",
    "millions are ${family_avg_cost/10**6:.02f} millions')"
   ]
  },
  {
   "cell_type": "markdown",
   "metadata": {},
   "source": [
    "### Genre for a medium risk production will be Music"
   ]
  },
  {
   "cell_type": "markdown",
   "metadata": {},
   "source": [
    "## Medium Risk - Director"
   ]
  },
  {
   "cell_type": "code",
   "execution_count": null,
   "metadata": {},
   "outputs": [],
   "source": [
    "df_music_movies = df_mediumrisk_exploded[df_mediumrisk_exploded['genres']=='Music']\n",
    "df_music_directors = pd.merge(df_music_movies,imdb,how='inner',on='movie')"
   ]
  },
  {
   "cell_type": "code",
   "execution_count": null,
   "metadata": {},
   "outputs": [],
   "source": [
    "df_music_directors.drop_duplicates(subset=['movie','director'],inplace=True)\n",
    "df_music_directors.drop(['release_date','production_budget','domestic_gross','worldwide_gross','release_year','ROI','genres_x','start_year', 'runtime_minutes','genres_y'],axis=1,inplace=True)\n",
    "df_music_directors.sort_values('director').sort_values('worldwide_net',ascending=False).head()"
   ]
  },
  {
   "cell_type": "code",
   "execution_count": null,
   "metadata": {},
   "outputs": [],
   "source": [
    "director_count = df_music_directors.groupby('director')['worldwide_net'].count().reset_index().sort_values('worldwide_net',ascending=False)#.iloc[:15]#['director'].iloc[:7]\n",
    "director_count = director_count.rename(columns={'worldwide_net':'count'})\n",
    "# director_count = (director_count[director_count['count']>2])\n",
    "director_count"
   ]
  },
  {
   "cell_type": "markdown",
   "metadata": {},
   "source": [
    "Unfortunately, we just have one movie ffor each director, which does not allow us to extrapolate much."
   ]
  },
  {
   "cell_type": "code",
   "execution_count": null,
   "metadata": {},
   "outputs": [],
   "source": [
    "df_music_directors.groupby('director').median('worldwide_net').sort_values('worldwide_net', ascending=False)"
   ]
  },
  {
   "cell_type": "markdown",
   "metadata": {},
   "source": [
    "For lack of data we recommend the director Damien Chazelle, as his Music movie sold 60% more than the second place."
   ]
  },
  {
   "cell_type": "markdown",
   "metadata": {},
   "source": [
    "## Medium Risk - Release Date"
   ]
  },
  {
   "cell_type": "code",
   "execution_count": null,
   "metadata": {},
   "outputs": [],
   "source": [
    "df_music_movies.head()"
   ]
  },
  {
   "cell_type": "code",
   "execution_count": null,
   "metadata": {},
   "outputs": [],
   "source": [
    "df_music_movies['release_month'] = pd.to_datetime(df_music_movies['release_date'], format='%m').dt.month\n",
    "music_release_month = df_music_movies.groupby('release_month').count().reset_index()[['release_month','movie']].rename(columns={'movie':'count'})\n",
    "music_release_month"
   ]
  },
  {
   "cell_type": "code",
   "execution_count": null,
   "metadata": {},
   "outputs": [],
   "source": [
    "fig,ax = plt.subplots(figsize=(10,6))\n",
    "\n",
    "ax.bar(x='release_month',height='count', data=music_release_month)\n",
    "ax.set_xticks(np.arange(1,13))\n",
    "ax.set_yticks(np.arange(0,11))\n",
    "ax.set_ylim(0,10)\n",
    "ax.set_xlabel('Release Month')\n",
    "ax.set_ylabel('Number of Movies Released')\n",
    "ax.set_title('Number of Music movies released each month')\n",
    "ax.vlines(x=8,ymin=0,ymax=40,color='r')\n",
    "ax.text(x=8.1,y=9,s='End of Summer');"
   ]
  },
  {
   "cell_type": "markdown",
   "metadata": {},
   "source": [
    "### For some reason Music movies are more popular in August so we recommend this month for release."
   ]
  },
  {
   "cell_type": "markdown",
   "metadata": {},
   "source": [
    "## Medium risk - Runtime"
   ]
  },
  {
   "cell_type": "code",
   "execution_count": null,
   "metadata": {},
   "outputs": [],
   "source": [
    "df_music = pd.merge(df_music_movies,imdb,how='inner',on='movie')\n",
    "df_music.drop_duplicates(subset=['movie'],inplace=True)\n",
    "\n",
    "runtime_music_mean = df_music['runtime_minutes'].mean()\n",
    "runtime_music_std = df_music['runtime_minutes'].std()\n",
    "n_music = len(df_music['runtime_minutes'])\n",
    "err_music = runtime_music_std/n_music**0.5\n",
    "\n",
    "Tcrit = stats.t.ppf(0.975,n_music-1)\n",
    "\n",
    "runtime_music_upper = runtime_music_mean + Tcrit*err_music\n",
    "runtime_music_lower = runtime_music_mean - Tcrit*err_music\n",
    "\n",
    "print(f'The duration of the Music movie should be in between {floor(runtime_music_lower)} and {ceil(runtime_music_upper)} minutes.')"
   ]
  },
  {
   "cell_type": "markdown",
   "metadata": {},
   "source": [
    "# High risk"
   ]
  },
  {
   "cell_type": "markdown",
   "metadata": {},
   "source": [
    "We now do the same with the higher roisk budget."
   ]
  },
  {
   "cell_type": "code",
   "execution_count": null,
   "metadata": {},
   "outputs": [],
   "source": [
    "tn_high_risk"
   ]
  },
  {
   "cell_type": "code",
   "execution_count": null,
   "metadata": {},
   "outputs": [],
   "source": [
    "df_highrisk_merged1 = pd.merge(tn_high_risk,movie_db,how='inner',on='movie')\n",
    "df_highrisk_merged1.drop_duplicates(subset=['release_date','genres','movie'], inplace=True)\n",
    "df_highrisk_merged1.drop('original_title', axis=1, inplace=True)\n",
    "df_highrisk_merged1"
   ]
  },
  {
   "cell_type": "code",
   "execution_count": null,
   "metadata": {},
   "outputs": [],
   "source": [
    "df_highrisk_merged2 = pd.merge(left=tn_high_risk, right=movie_db,how='inner',left_on='movie', right_on='original_title')\n",
    "df_highrisk_merged2.drop_duplicates(subset=['release_date','genres','movie_x'], inplace=True)\n",
    "df_highrisk_merged2.rename(columns={'movie_x':'movie'},inplace=True)\n",
    "df_highrisk_merged2.drop(['original_title', 'movie_y'],axis=1,inplace=True)\n",
    "df_highrisk_merged2"
   ]
  },
  {
   "cell_type": "code",
   "execution_count": null,
   "metadata": {},
   "outputs": [],
   "source": [
    "df_highrisk_merged3 = pd.merge(tn_high_risk,imdb,how='inner',on='movie')\n",
    "df_highrisk_merged3.drop_duplicates(subset=['release_date','movie'], inplace=True)\n",
    "df_highrisk_merged3.drop(['runtime_minutes', 'start_year','director'], axis=1, inplace=True)\n",
    "df_highrisk_merged3"
   ]
  },
  {
   "cell_type": "code",
   "execution_count": null,
   "metadata": {},
   "outputs": [],
   "source": [
    "df_highrisk_merged3['genres'] = df_highrisk_merged3['genres'].str.split(',')\n",
    "df_highrisk_merged3 = df_highrisk_merged3.explode('genres')\n",
    "# df_highrisk_merged3['genres'].value_counts()"
   ]
  },
  {
   "cell_type": "code",
   "execution_count": null,
   "metadata": {},
   "outputs": [],
   "source": [
    "df_highrisk_exploded = pd.concat([df_highrisk_merged1, df_highrisk_merged2, df_highrisk_merged3])\n",
    "df_highrisk_exploded.drop_duplicates(subset=['release_date','movie','genres'], inplace=True)\n",
    "df_highrisk_exploded['genres'].value_counts()"
   ]
  },
  {
   "cell_type": "code",
   "execution_count": null,
   "metadata": {},
   "outputs": [],
   "source": [
    "df_highrisk_exploded['genres'].replace(to_replace='Science Fiction', value='Sci-Fi',inplace=True)\n",
    "df_highrisk_exploded['genres'].value_counts()"
   ]
  },
  {
   "cell_type": "markdown",
   "metadata": {},
   "source": [
    "## High risk - Genre"
   ]
  },
  {
   "cell_type": "code",
   "execution_count": null,
   "metadata": {},
   "outputs": [],
   "source": [
    "df_highrisk_exploded.groupby('genres')['ROI'].median().sort_values(ascending=False).reset_index().head()"
   ]
  },
  {
   "cell_type": "code",
   "execution_count": null,
   "metadata": {},
   "outputs": [],
   "source": [
    "df_highrisk_exploded.groupby('genres')['worldwide_net'].median().sort_values(ascending=False).reset_index().head()"
   ]
  },
  {
   "cell_type": "code",
   "execution_count": null,
   "metadata": {},
   "outputs": [],
   "source": [
    "#Let us calculate the probability that an Animation, Sci-Fi and Adventure movie will make profits\n",
    "#Animation first\n",
    "mean_animation = df_highrisk_exploded[df_highrisk_exploded['genres']=='Animation']['worldwide_net'].mean()/10**6\n",
    "std_animation = df_highrisk_exploded[df_highrisk_exploded['genres']=='Animation']['worldwide_net'].std()/10**6\n",
    "n_animation = len(df_highrisk_exploded[df_highrisk_exploded['genres']=='Animation']['worldwide_net'])\n",
    "\n",
    "t_animation_100 = (100-mean_animation)/(std_animation/n_animation**0.5)\n",
    "t_animation_200 = (200-mean_animation)/(std_animation/n_animation**0.5)\n",
    "t_animation_300 = (300-mean_animation)/(std_animation/n_animation**0.5)\n",
    "t_animation_350 = (350-mean_animation)/(std_animation/n_animation**0.5)\n",
    "print(f'T scores for profit of: \\n$100 million = {t_animation_100}\\n$200 million = {t_animation_200}\\n$300 million = {t_animation_300}\\n$350 million = {t_animation_350}\\n')\n",
    "\n",
    "prob_animation_100 = 1-stats.t.cdf(t_animation_100,df=n_animation-1)\n",
    "prob_animation_200 = 1-stats.t.cdf(t_animation_200,df=n_animation-1)\n",
    "prob_animation_300 = 1-stats.t.cdf(t_animation_300,df=n_animation-1)\n",
    "prob_animation_350 = 1-stats.t.cdf(t_animation_350,df=n_animation-1)\n",
    "print(f'Probability for profit f: \\n$100 million = {prob_animation_100}\\n$200 million = {prob_animation_200}\\n$300 million = {prob_animation_300}\\n$350 million = {prob_animation_350}\\n')\n",
    "\n",
    "animation_avg_cost = df_highrisk_exploded[df_highrisk_exploded['genres'] == 'Animation']['production_budget'].mean()\n",
    "print(f'Average cost of animation movies above $20 million are ${animation_avg_cost/10**6:.02f} millions')"
   ]
  },
  {
   "cell_type": "code",
   "execution_count": null,
   "metadata": {},
   "outputs": [],
   "source": [
    "#Let us calculate the probability that a scifi movie will make profits\n",
    "mean_scifi = df_highrisk_exploded[df_highrisk_exploded['genres']=='Sci-Fi']['worldwide_net'].mean()/10**6\n",
    "std_scifi = df_highrisk_exploded[df_highrisk_exploded['genres']=='Sci-Fi']['worldwide_net'].std()/10**6\n",
    "n_scifi = len(df_highrisk_exploded[df_highrisk_exploded['genres']=='Sci-Fi']['worldwide_net'])\n",
    "\n",
    "t_scifi_100 = (100-mean_scifi)/(std_scifi/n_scifi**0.5)\n",
    "t_scifi_200 = (200-mean_scifi)/(std_scifi/n_scifi**0.5)\n",
    "t_scifi_300 = (300-mean_scifi)/(std_scifi/n_scifi**0.5)\n",
    "t_scifi_350 = (350-mean_scifi)/(std_scifi/n_scifi**0.5)\n",
    "print(f'T scores for profit of: \\n$100 million = {t_scifi_100}\\n$200 million = {t_scifi_200}\\n$300 million = {t_scifi_300}\\n$350 million = {t_scifi_350}\\n')\n",
    "\n",
    "prob_scifi_100 = 1-stats.t.cdf(t_scifi_100,df=n_scifi-1)\n",
    "prob_scifi_200 = 1-stats.t.cdf(t_scifi_200,df=n_scifi-1)\n",
    "prob_scifi_300 = 1-stats.t.cdf(t_scifi_300,df=n_scifi-1)\n",
    "prob_scifi_350 = 1-stats.t.cdf(t_scifi_350,df=n_scifi-1)\n",
    "print(f'Probability for profit f: \\n$100 million = {prob_scifi_100}\\n$200 million = {prob_scifi_200}\\n$300 million = {prob_scifi_300}\\n$350 million = {prob_scifi_350}\\n')\n",
    "\n",
    "scifi_avg_cost = df_highrisk_exploded[df_highrisk_exploded['genres'] == 'Sci-Fi']['production_budget'].mean()\n",
    "print(f'Average cost of Sci-Fi movies above $20 million are ${scifi_avg_cost/10**6:.02f} millions')"
   ]
  },
  {
   "cell_type": "code",
   "execution_count": null,
   "metadata": {},
   "outputs": [],
   "source": [
    "#Let us calculate the probability that a adventure movie will make profits\n",
    "mean_adventure = df_highrisk_exploded[df_highrisk_exploded['genres']=='Adventure']['worldwide_net'].mean()/10**6\n",
    "std_adventure = df_highrisk_exploded[df_highrisk_exploded['genres']=='Adventure']['worldwide_net'].std()/10**6\n",
    "n_adventure = len(df_highrisk_exploded[df_highrisk_exploded['genres']=='Adventure']['worldwide_net'])\n",
    "\n",
    "t_adventure_100 = (100-mean_adventure)/(std_adventure/n_adventure**0.5)\n",
    "t_adventure_200 = (200-mean_adventure)/(std_adventure/n_adventure**0.5)\n",
    "t_adventure_300 = (300-mean_adventure)/(std_adventure/n_adventure**0.5)\n",
    "t_adventure_350 = (350-mean_adventure)/(std_adventure/n_adventure**0.5)\n",
    "print(f'T scores for profit of: \\n$100 million = {t_adventure_100}\\n$200 million = {t_adventure_200}\\n$300 million = {t_adventure_300}\\n$350 million = {t_adventure_350}\\n')\n",
    "\n",
    "prob_adventure_100 = 1-stats.t.cdf(t_adventure_100,df=n_adventure-1)\n",
    "prob_adventure_200 = 1-stats.t.cdf(t_adventure_200,df=n_adventure-1)\n",
    "prob_adventure_300 = 1-stats.t.cdf(t_adventure_300,df=n_adventure-1)\n",
    "prob_adventure_350 = 1-stats.t.cdf(t_adventure_350,df=n_adventure-1)\n",
    "print(f'Probability for profit f: \\n$100 million = {prob_adventure_100}\\n$200 million = {prob_adventure_200}\\n$300 million = {prob_adventure_300}\\n$350 million = {prob_adventure_350}\\n')\n",
    "\n",
    "adventure_avg_cost = df_highrisk_exploded[df_highrisk_exploded['genres'] == 'Adventure']['production_budget'].mean()\n",
    "print(f'Average cost of Adventure movies above $20 million are ${adventure_avg_cost/10**6:.02f} millions')"
   ]
  },
  {
   "cell_type": "markdown",
   "metadata": {},
   "source": [
    "## High Risk - Directors"
   ]
  },
  {
   "cell_type": "markdown",
   "metadata": {},
   "source": [
    "FInally, for high risk budget."
   ]
  },
  {
   "cell_type": "code",
   "execution_count": null,
   "metadata": {},
   "outputs": [],
   "source": [
    "df_scifi_movies = df_highrisk_exploded[df_highrisk_exploded['genres']=='Sci-Fi']\n",
    "df_scifi_directors = pd.merge(df_scifi_movies,imdb,how='inner',on='movie')\n",
    "df_scifi_directors"
   ]
  },
  {
   "cell_type": "code",
   "execution_count": null,
   "metadata": {},
   "outputs": [],
   "source": [
    "df_scifi_directors.drop_duplicates(subset=['movie','director'],inplace=True)\n",
    "df_scifi_directors.drop(['release_date','production_budget','domestic_gross','worldwide_gross','release_year','ROI','genres_x','start_year', 'runtime_minutes','genres_y'],axis=1,inplace=True)\n",
    "df_scifi_directors.sort_values('director')"
   ]
  },
  {
   "cell_type": "code",
   "execution_count": null,
   "metadata": {},
   "outputs": [],
   "source": [
    "director_count = df_scifi_directors.groupby('director')['worldwide_net'].count().reset_index().sort_values('worldwide_net',ascending=False)#.iloc[:15]#['director'].iloc[:7]\n",
    "director_count = director_count.rename(columns={'worldwide_net':'count'})\n",
    "director_count = (director_count[director_count['count']>2])\n",
    "director_count"
   ]
  },
  {
   "cell_type": "code",
   "execution_count": null,
   "metadata": {},
   "outputs": [],
   "source": [
    "director_list = list(director_count['director'])\n",
    "director_list"
   ]
  },
  {
   "cell_type": "code",
   "execution_count": null,
   "metadata": {},
   "outputs": [],
   "source": [
    "scifi_topdirectors = df_scifi_directors[df_scifi_directors['director'].isin(director_list)].groupby('director')['worldwide_net'].median().reset_index().sort_values('worldwide_net',ascending=False)\n",
    "scifi_topdirectors.rename(columns={'worldwide_net': 'Median Profit'})\n",
    "#list_scifi_topdirectors"
   ]
  },
  {
   "cell_type": "code",
   "execution_count": null,
   "metadata": {},
   "outputs": [],
   "source": [
    "df_scifi_directors[df_scifi_directors['director'].isin(scifi_topdirectors['director'])].sort_values('director')#.drop_duplicates(subset=['movie', 'director'])"
   ]
  },
  {
   "cell_type": "markdown",
   "metadata": {},
   "source": [
    "Our recommendation for top directors are (in order of profit):\n",
    "- For movies about robots, Michael Bay;\n",
    "- For movies based on comics, Anthony Russo;\n",
    "- For movies based on books, Francis Lawrence;"
   ]
  },
  {
   "cell_type": "markdown",
   "metadata": {},
   "source": [
    "## High Risk - Release Month"
   ]
  },
  {
   "cell_type": "code",
   "execution_count": null,
   "metadata": {},
   "outputs": [],
   "source": [
    "df_scifi_movies = df_highrisk_exploded[df_highrisk_exploded['genres']=='Sci-Fi']\n",
    "df_scifi_movies"
   ]
  },
  {
   "cell_type": "code",
   "execution_count": null,
   "metadata": {},
   "outputs": [],
   "source": [
    "df_scifi_movies['release_month'] = pd.to_datetime(df_scifi_movies['release_date'], format='%m').dt.month\n",
    "df_scifi_movies.head()"
   ]
  },
  {
   "cell_type": "code",
   "execution_count": null,
   "metadata": {},
   "outputs": [],
   "source": [
    "month_count = df_scifi_movies.groupby('release_month').count()['genres'].reset_index().rename(columns={'genres':'count'})\n",
    "\n",
    "fig,ax = plt.subplots(figsize=(10,6))\n",
    "\n",
    "ax.bar(x='release_month',height='count', data=month_count)\n",
    "ax.set_xticks(np.arange(1,13))\n",
    "ax.set_yticks(np.arange(0,45,5))\n",
    "ax.set_ylim(0,40)\n",
    "ax.set_xlabel('Release Month')\n",
    "ax.set_ylabel('Number of Movies Released')\n",
    "ax.set_title('Number of Sci-Fi movies released each month')\n",
    "ax.vlines(x=3,ymin=0,ymax=40,color='r')\n",
    "ax.vlines(x=6,ymin=0,ymax=40,color='r')\n",
    "ax.text(x=3.1,y=38,s='Spring Break')\n",
    "ax.text(x=6.1,y=38,s='Summer');"
   ]
  },
  {
   "cell_type": "markdown",
   "metadata": {},
   "source": [
    "Movie should be released either in March for Spring Break or in June for Summer."
   ]
  },
  {
   "cell_type": "markdown",
   "metadata": {},
   "source": [
    "## High Risk - Runtime"
   ]
  },
  {
   "cell_type": "code",
   "execution_count": null,
   "metadata": {},
   "outputs": [],
   "source": [
    "df_scifi = pd.merge(df_scifi_movies,imdb,how='inner',on='movie')\n",
    "df_scifi.drop_duplicates(subset=['movie'],inplace=True)\n",
    "\n",
    "runtime_scifi_mean = df_scifi['runtime_minutes'].mean()\n",
    "runtime_scifi_std = df_scifi['runtime_minutes'].std()\n",
    "n_scifi = len(df_scifi['runtime_minutes'])\n",
    "err_scifi = runtime_scifi_std/n_scifi**0.5\n",
    "\n",
    "Tcrit = stats.t.ppf(0.975,n_scifi-1)\n",
    "\n",
    "runtime_scifi_upper = runtime_scifi_mean + Tcrit*err_scifi\n",
    "runtime_scifi_lower = runtime_scifi_mean - Tcrit*err_scifi\n",
    "\n",
    "print(f'The duration of the Sci-Fi movie should be in between {floor(runtime_scifi_lower)} and {ceil(runtime_scifi_upper)} minutes.')"
   ]
  },
  {
   "cell_type": "markdown",
   "metadata": {},
   "source": [
    "## Recommendations\n",
    "\n",
    "**Low Risk:**\n",
    "* Genre: Horror\n",
    "* Director: Jordan Peele or John R. Leonetti\n",
    "* Best release date: Halloween (October) or Easter (April)\n",
    "* Runtime: 96 to 100 minutes\n",
    "* Average cost: $7.53 millions\n",
    "\n",
    "**Medium Risk:**\n",
    "* Genre: Music\n",
    "* Director: Damien Chazelle (La La Land)\n",
    "* Best release date: August\n",
    "* Runtime: 96 to 113 minutes\n",
    "* Average cost: $21.93 millions\n",
    "\n",
    "**High Risk:**\n",
    "* Genre: Sci-Fi\n",
    "* Director: Michael Bay (Transformers), Anthony Russo (Marvel), Francis Lawrence (Hunger Games)\n",
    "* Best release date: March (Spring Break) or June (Summer)\n",
    "* Runtime: 112 to 120 minutes\n",
    "* Average cost: $155.73 millions\n"
   ]
  },
  {
   "cell_type": "markdown",
   "metadata": {},
   "source": [
    "## Next Steps\n",
    "\n",
    "For further steps we recommend expanding analysis into several directions:\n",
    "\n",
    "* Explore data on profits and movie perfomance on streaming services.\n",
    "\n",
    "* Add budgets spent on marketing. [\"Many people get confused when they hear that a movie with a production budget of 100 million grosses 150 million worldwide and loses money. But the brutal fact is that movies get sunk by the massive costs of marketing and distribution all the time.\"](https://www.studiobinder.com/blog/production-budget/)\n"
   ]
  }
 ],
 "metadata": {
  "kernelspec": {
   "display_name": "Python 3 (ipykernel)",
   "language": "python",
   "name": "python3"
  },
  "language_info": {
   "codemirror_mode": {
    "name": "ipython",
    "version": 3
   },
   "file_extension": ".py",
   "mimetype": "text/x-python",
   "name": "python",
   "nbconvert_exporter": "python",
   "pygments_lexer": "ipython3",
   "version": "3.11.7"
  }
 },
 "nbformat": 4,
 "nbformat_minor": 4
}
